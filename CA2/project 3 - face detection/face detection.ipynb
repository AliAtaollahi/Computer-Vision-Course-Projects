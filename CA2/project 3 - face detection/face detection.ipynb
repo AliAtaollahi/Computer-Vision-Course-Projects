{
 "cells": [
  {
   "cell_type": "code",
   "execution_count": null,
   "metadata": {},
   "outputs": [],
   "source": [
    "%pip install opencv-python"
   ]
  },
  {
   "cell_type": "code",
   "execution_count": 16,
   "metadata": {},
   "outputs": [],
   "source": [
    "import cv2\n",
    "import time\n",
    "\n",
    "def detect_faces_haarCascade(filename):\n",
    "    # Load the pre-trained Haar Cascade classifier for face detection\n",
    "    face_cascade = cv2.CascadeClassifier('haarcascades/haarcascade_frontalface_default.xml')\n",
    "    \n",
    "    # Check if the face cascade model is loaded properly\n",
    "    if face_cascade.empty():\n",
    "        print(\"Error loading face cascade model\")\n",
    "        return\n",
    "\n",
    "    # Load the image\n",
    "    frame = cv2.imread(filename)\n",
    "\n",
    "    if frame is None:\n",
    "        print(f\"Error loading image {filename}\")\n",
    "        return\n",
    "\n",
    "    # Convert the frame to grayscale for the face detection model\n",
    "    gray = cv2.cvtColor(frame, cv2.COLOR_BGR2GRAY)\n",
    "\n",
    "    # Detect faces in the image\n",
    "    start = time.time()\n",
    "    faces = face_cascade.detectMultiScale(gray, scaleFactor=1.1, minNeighbors=5, minSize=(30, 30)) #1.01, 20\n",
    "    end = time.time()\n",
    "    # Draw rectangles around the detected faces\n",
    "    for (x, y, w, h) in faces:\n",
    "        cv2.rectangle(frame, (x, y), (x+w, y+h), (255, 0, 0), 2)\n",
    "\n",
    "    print(f'Inference time: {end - start:.2f} seconds')\n",
    "    # Display the resulting image with bounding boxes\n",
    "    cv2.imshow('Face Detection', frame)\n",
    "    cv2.waitKey(0)  # Wait indefinitely until a key is pressed\n",
    "\n",
    "    # Close OpenCV windows\n",
    "    cv2.destroyAllWindows()\n"
   ]
  },
  {
   "cell_type": "code",
   "execution_count": 17,
   "metadata": {},
   "outputs": [
    {
     "name": "stdout",
     "output_type": "stream",
     "text": [
      "Inference time: 0.02 seconds\n"
     ]
    }
   ],
   "source": [
    "detect_faces_haarCascade('img.png')"
   ]
  },
  {
   "cell_type": "code",
   "execution_count": 18,
   "metadata": {},
   "outputs": [
    {
     "name": "stdout",
     "output_type": "stream",
     "text": [
      "Inference time: 0.15 seconds\n"
     ]
    }
   ],
   "source": [
    "detect_faces_haarCascade('multi_faces.jpg')"
   ]
  }
 ],
 "metadata": {
  "kernelspec": {
   "display_name": "Python 3",
   "language": "python",
   "name": "python3"
  },
  "language_info": {
   "codemirror_mode": {
    "name": "ipython",
    "version": 3
   },
   "file_extension": ".py",
   "mimetype": "text/x-python",
   "name": "python",
   "nbconvert_exporter": "python",
   "pygments_lexer": "ipython3",
   "version": "3.10.7"
  }
 },
 "nbformat": 4,
 "nbformat_minor": 2
}
